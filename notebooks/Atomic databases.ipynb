{
 "cells": [
  {
   "cell_type": "markdown",
   "id": "b29c571d",
   "metadata": {},
   "source": [
    "# Optimization trajectories dataset"
   ]
  },
  {
   "cell_type": "markdown",
   "id": "a44d5ffe",
   "metadata": {},
   "source": [
    "The dataset is stored in the ASE database (https://wiki.fysik.dtu.dk/ase/index.html).\n",
    "[FeRhDoped.db](../data/FeRhDoped.db) contains full trajectories, while [FeRhDopedOptimized.db](../data/FeRhDopedOptimized.db) contains only optimal geometries."
   ]
  },
  {
   "cell_type": "code",
   "execution_count": 4,
   "id": "5fd8b54c",
   "metadata": {},
   "outputs": [],
   "source": [
    "from ase.db import connect\n",
    "db = connect(\"../data/FeRhDopedOptimized.db\")"
   ]
  },
  {
   "cell_type": "code",
   "execution_count": 6,
   "id": "8c667e49",
   "metadata": {},
   "outputs": [],
   "source": [
    "# One row of the database\n",
    "row = db.get(1)"
   ]
  },
  {
   "cell_type": "code",
   "execution_count": 17,
   "id": "81f3bd01",
   "metadata": {},
   "outputs": [
    {
     "data": {
      "text/plain": [
       "['Fe',\n",
       " 'Fe',\n",
       " 'Fe',\n",
       " 'Fe',\n",
       " 'Fe',\n",
       " 'Fe',\n",
       " 'Fe',\n",
       " 'Fe',\n",
       " 'Fe',\n",
       " 'Fe',\n",
       " 'Fe',\n",
       " 'Fe',\n",
       " 'Fe',\n",
       " 'Fe',\n",
       " 'Fe',\n",
       " 'Fe',\n",
       " 'Fe',\n",
       " 'Fe',\n",
       " 'Fe',\n",
       " 'Fe',\n",
       " 'Fe',\n",
       " 'Fe',\n",
       " 'Fe',\n",
       " 'Fe',\n",
       " 'Fe',\n",
       " 'Fe',\n",
       " 'Rh',\n",
       " 'Rh',\n",
       " 'Rh',\n",
       " 'Rh',\n",
       " 'Rh',\n",
       " 'Rh',\n",
       " 'Rh',\n",
       " 'Rh',\n",
       " 'Rh',\n",
       " 'Rh',\n",
       " 'Rh',\n",
       " 'Rh',\n",
       " 'Rh',\n",
       " 'Rh',\n",
       " 'Rh',\n",
       " 'Rh',\n",
       " 'Rh',\n",
       " 'Rh',\n",
       " 'Rh',\n",
       " 'Rh',\n",
       " 'Rh',\n",
       " 'Rh',\n",
       " 'Rh',\n",
       " 'Rh',\n",
       " 'Rh',\n",
       " 'Rh',\n",
       " 'Pd']"
      ]
     },
     "execution_count": 17,
     "metadata": {},
     "output_type": "execute_result"
    }
   ],
   "source": [
    "# Supercell atom types \n",
    "\n",
    "row.symbols"
   ]
  },
  {
   "cell_type": "code",
   "execution_count": 7,
   "id": "4f4944ad",
   "metadata": {},
   "outputs": [
    {
     "data": {
      "text/plain": [
       "array([[-2.04700e-02, -6.36300e-02, -6.36400e-02],\n",
       "       [-2.04700e-02, -6.36300e-02,  3.06181e+00],\n",
       "       [-4.81000e-03, -9.20000e-03,  5.99635e+00],\n",
       "       [-2.04700e-02,  3.06181e+00, -6.36200e-02],\n",
       "       [-2.04700e-02,  3.06180e+00,  3.06180e+00],\n",
       "       [-4.82000e-03,  3.00738e+00,  5.99636e+00],\n",
       "       [-4.81000e-03,  5.99637e+00, -9.20000e-03],\n",
       "       [-4.82000e-03,  5.99637e+00,  3.00738e+00],\n",
       "       [-1.76800e-02,  5.99637e+00,  5.99636e+00],\n",
       "       [ 3.00947e+00, -2.26400e-02, -2.26400e-02],\n",
       "       [ 3.00947e+00, -2.26400e-02,  3.02081e+00],\n",
       "       [ 2.99158e+00,  1.92000e-03,  5.99636e+00],\n",
       "       [ 3.00947e+00,  3.02081e+00, -2.26300e-02],\n",
       "       [ 3.00948e+00,  3.02081e+00,  3.02081e+00],\n",
       "       [ 2.99159e+00,  2.99625e+00,  5.99636e+00],\n",
       "       [ 2.99158e+00,  5.99637e+00,  1.93000e-03],\n",
       "       [ 2.99159e+00,  5.99637e+00,  2.99625e+00],\n",
       "       [ 3.02236e+00,  5.99637e+00,  5.99636e+00],\n",
       "       [ 5.97522e+00, -6.78000e-03, -6.78000e-03],\n",
       "       [ 5.97523e+00, -6.78000e-03,  3.00496e+00],\n",
       "       [ 5.96989e+00, -1.66600e-02,  5.99635e+00],\n",
       "       [ 5.97522e+00,  3.00496e+00, -6.78000e-03],\n",
       "       [ 5.97522e+00,  3.00496e+00,  3.00495e+00],\n",
       "       [ 5.96989e+00,  3.01484e+00,  5.99635e+00],\n",
       "       [ 5.96989e+00,  5.99636e+00, -1.66600e-02],\n",
       "       [ 5.96989e+00,  5.99636e+00,  3.01483e+00],\n",
       "       [ 1.46958e+00,  1.49908e+00,  1.49909e+00],\n",
       "       [ 1.48744e+00,  1.49909e+00,  4.47808e+00],\n",
       "       [ 1.48744e+00,  1.49909e+00,  7.51463e+00],\n",
       "       [ 1.48744e+00,  4.47809e+00,  1.49909e+00],\n",
       "       [ 1.50736e+00,  4.51546e+00,  4.51546e+00],\n",
       "       [ 1.50737e+00,  4.51546e+00,  7.47725e+00],\n",
       "       [ 1.48743e+00,  7.51464e+00,  1.49909e+00],\n",
       "       [ 1.50737e+00,  7.47726e+00,  4.51546e+00],\n",
       "       [ 1.50737e+00,  7.47726e+00,  7.47725e+00],\n",
       "       [ 4.48214e+00,  1.49908e+00,  1.49909e+00],\n",
       "       [ 4.48612e+00,  1.49908e+00,  4.49899e+00],\n",
       "       [ 4.48612e+00,  1.49908e+00,  7.49371e+00],\n",
       "       [ 4.48612e+00,  4.49900e+00,  1.49909e+00],\n",
       "       [ 4.51335e+00,  4.53778e+00,  4.53777e+00],\n",
       "       [ 4.51335e+00,  4.53778e+00,  7.45494e+00],\n",
       "       [ 4.48613e+00,  7.49372e+00,  1.49909e+00],\n",
       "       [ 4.51336e+00,  7.45494e+00,  4.53778e+00],\n",
       "       [ 4.51336e+00,  7.45493e+00,  7.45492e+00],\n",
       "       [ 7.46046e+00,  1.49908e+00,  4.50008e+00],\n",
       "       [ 7.46046e+00,  1.49908e+00,  7.49263e+00],\n",
       "       [ 7.46046e+00,  4.50008e+00,  1.49909e+00],\n",
       "       [ 7.41153e+00,  4.54661e+00,  4.54661e+00],\n",
       "       [ 7.41152e+00,  4.54662e+00,  7.44610e+00],\n",
       "       [ 7.46046e+00,  7.49264e+00,  1.49909e+00],\n",
       "       [ 7.41151e+00,  7.44610e+00,  4.54662e+00],\n",
       "       [ 7.41151e+00,  7.44610e+00,  7.44609e+00],\n",
       "       [ 7.57118e+00,  1.49908e+00,  1.49908e+00]])"
      ]
     },
     "execution_count": 7,
     "metadata": {},
     "output_type": "execute_result"
    }
   ],
   "source": [
    "# Structure geometry \n",
    "\n",
    "row.positions"
   ]
  },
  {
   "cell_type": "code",
   "execution_count": 8,
   "id": "64a1095a",
   "metadata": {},
   "outputs": [
    {
     "data": {
      "text/plain": [
       "array([[ 8.96226953e+00,  2.19000000e-07, -2.59000000e-07],\n",
       "       [ 1.81000000e-07,  8.99453751e+00,  1.91600000e-06],\n",
       "       [-2.70000000e-07,  1.91600000e-06,  8.99452973e+00]])"
      ]
     },
     "execution_count": 8,
     "metadata": {},
     "output_type": "execute_result"
    }
   ],
   "source": [
    "# Structure primitive cell\n",
    "row.cell"
   ]
  },
  {
   "cell_type": "code",
   "execution_count": 9,
   "id": "c504ad97",
   "metadata": {},
   "outputs": [
    {
     "data": {
      "text/plain": [
       "'LS'"
      ]
     },
     "execution_count": 9,
     "metadata": {},
     "output_type": "execute_result"
    }
   ],
   "source": [
    "# Supercell type (one of 'SS', 'MS', 'LS')\n",
    "\n",
    "row.cell_type"
   ]
  },
  {
   "cell_type": "code",
   "execution_count": 6,
   "id": "7101e093",
   "metadata": {},
   "outputs": [
    {
     "data": {
      "text/plain": [
       "2"
      ]
     },
     "execution_count": 6,
     "metadata": {},
     "output_type": "execute_result"
    }
   ],
   "source": [
    "# Supercell index\n",
    "\n",
    "row.cell_index"
   ]
  },
  {
   "cell_type": "code",
   "execution_count": 10,
   "id": "86d6695c",
   "metadata": {},
   "outputs": [
    {
     "data": {
      "text/plain": [
       "'Rh_to_Pd'"
      ]
     },
     "execution_count": 10,
     "metadata": {},
     "output_type": "execute_result"
    }
   ],
   "source": [
    "# Doping type (one of 'Rh_to_X', 'exchange' and '', where X is a dopand element)\n",
    "row.doping_type"
   ]
  },
  {
   "cell_type": "code",
   "execution_count": 11,
   "id": "eb4c70b9",
   "metadata": {},
   "outputs": [
    {
     "data": {
      "text/plain": [
       "-408.60521655"
      ]
     },
     "execution_count": 11,
     "metadata": {},
     "output_type": "execute_result"
    }
   ],
   "source": [
    "# Total electronic energy\n",
    "\n",
    "row.energy"
   ]
  },
  {
   "cell_type": "code",
   "execution_count": 12,
   "id": "4f4a1b3e",
   "metadata": {},
   "outputs": [
    {
     "data": {
      "text/plain": [
       "array([[ 3.139e-03, -2.107e-03, -2.095e-03],\n",
       "       [ 3.154e-03, -2.114e-03,  2.104e-03],\n",
       "       [-6.040e-04, -1.169e-03, -1.300e-05],\n",
       "       [ 3.168e-03,  2.127e-03, -2.120e-03],\n",
       "       [ 3.184e-03,  2.136e-03,  2.128e-03],\n",
       "       [-5.650e-04,  1.209e-03, -1.000e-05],\n",
       "       [-5.850e-04, -1.400e-05, -1.171e-03],\n",
       "       [-5.730e-04, -1.400e-05,  1.189e-03],\n",
       "       [-3.408e-03, -7.700e-05, -2.400e-05],\n",
       "       [-5.055e-03, -2.863e-03, -2.868e-03],\n",
       "       [-5.071e-03, -2.867e-03,  2.866e-03],\n",
       "       [ 2.170e-04,  2.263e-03, -7.000e-06],\n",
       "       [-5.087e-03,  2.875e-03, -2.894e-03],\n",
       "       [-5.107e-03,  2.882e-03,  2.890e-03],\n",
       "       [ 1.780e-04, -2.216e-03, -8.000e-06],\n",
       "       [ 1.760e-04, -1.800e-05,  2.260e-03],\n",
       "       [ 1.640e-04, -2.000e-05, -2.246e-03],\n",
       "       [ 7.496e-03, -7.000e-05, -1.800e-05],\n",
       "       [-1.326e-03, -2.526e-03, -2.524e-03],\n",
       "       [-1.325e-03, -2.536e-03,  2.538e-03],\n",
       "       [ 8.600e-04,  3.002e-03, -7.000e-06],\n",
       "       [-1.312e-03,  2.518e-03, -2.537e-03],\n",
       "       [-1.312e-03,  2.525e-03,  2.544e-03],\n",
       "       [ 8.680e-04, -2.943e-03, -2.000e-06],\n",
       "       [ 8.990e-04,  1.000e-06,  2.978e-03],\n",
       "       [ 8.980e-04,  5.000e-06, -2.943e-03],\n",
       "       [-2.091e-03, -6.000e-06,  1.000e-05],\n",
       "       [-1.878e-03,  2.500e-05,  1.111e-03],\n",
       "       [-1.876e-03,  3.000e-05, -1.115e-03],\n",
       "       [-1.881e-03,  1.117e-03,  6.000e-06],\n",
       "       [ 9.430e-04,  3.134e-03,  3.123e-03],\n",
       "       [ 9.510e-04,  3.131e-03, -3.120e-03],\n",
       "       [-1.874e-03, -1.130e-03,  9.000e-06],\n",
       "       [ 9.520e-04, -3.140e-03,  3.119e-03],\n",
       "       [ 9.580e-04, -3.140e-03, -3.120e-03],\n",
       "       [-1.923e-03,  2.000e-06, -5.000e-06],\n",
       "       [-8.350e-04,  1.600e-05, -3.327e-03],\n",
       "       [-8.380e-04,  1.900e-05,  3.338e-03],\n",
       "       [-8.420e-04, -3.305e-03,  0.000e+00],\n",
       "       [-1.150e-04, -3.665e-03, -3.646e-03],\n",
       "       [-1.270e-04, -3.681e-03,  3.640e-03],\n",
       "       [-8.300e-04,  3.325e-03,  4.000e-06],\n",
       "       [-1.380e-04,  3.653e-03, -3.689e-03],\n",
       "       [-1.580e-04,  3.668e-03,  3.681e-03],\n",
       "       [ 4.150e-03,  1.300e-05, -4.238e-03],\n",
       "       [ 4.148e-03,  1.400e-05,  4.243e-03],\n",
       "       [ 4.145e-03, -4.209e-03, -4.000e-06],\n",
       "       [ 2.650e-04, -3.971e-03, -3.986e-03],\n",
       "       [ 2.690e-04, -3.985e-03,  3.979e-03],\n",
       "       [ 4.137e-03,  4.217e-03, -1.000e-06],\n",
       "       [ 2.790e-04,  3.956e-03, -4.028e-03],\n",
       "       [ 2.940e-04,  3.974e-03,  4.022e-03],\n",
       "       [ 8.450e-04, -5.000e-05, -1.900e-05]])"
      ]
     },
     "execution_count": 12,
     "metadata": {},
     "output_type": "execute_result"
    }
   ],
   "source": [
    "# Atomic forces\n",
    "\n",
    "row.forces"
   ]
  },
  {
   "cell_type": "code",
   "execution_count": 14,
   "id": "d58f13f7",
   "metadata": {},
   "outputs": [
    {
     "data": {
      "text/plain": [
       "array([3.092, 3.092, 3.098, 3.092, 3.092, 3.098, 3.098, 3.098, 3.09 ,\n",
       "       3.105, 3.105, 3.106, 3.105, 3.105, 3.107, 3.107, 3.107, 3.117,\n",
       "       3.089, 3.089, 3.093, 3.089, 3.089, 3.093, 3.093, 3.093, 0.883,\n",
       "       0.978, 0.978, 0.978, 0.978, 0.978, 0.978, 0.978, 0.978, 0.967,\n",
       "       0.975, 0.975, 0.975, 0.925, 0.925, 0.975, 0.925, 0.925, 0.957,\n",
       "       0.957, 0.957, 0.914, 0.914, 0.957, 0.914, 0.914, 0.291])"
      ]
     },
     "execution_count": 14,
     "metadata": {},
     "output_type": "execute_result"
    }
   ],
   "source": [
    "# Magnetic moments\n",
    "\n",
    "row.magmoms"
   ]
  },
  {
   "cell_type": "code",
   "execution_count": 16,
   "id": "2fb078cd",
   "metadata": {},
   "outputs": [
    {
     "data": {
      "text/plain": [
       "array([ 1.85447719e-04,  2.25499483e-04,  2.24881574e-04,  2.37177347e-07,\n",
       "       -1.24830183e-08,  1.87245274e-08])"
      ]
     },
     "execution_count": 16,
     "metadata": {},
     "output_type": "execute_result"
    }
   ],
   "source": [
    "# Stress vector\n",
    "\n",
    "row.stress"
   ]
  }
 ],
 "metadata": {
  "kernelspec": {
   "display_name": "Python 3",
   "language": "python",
   "name": "python3"
  },
  "language_info": {
   "codemirror_mode": {
    "name": "ipython",
    "version": 3
   },
   "file_extension": ".py",
   "mimetype": "text/x-python",
   "name": "python",
   "nbconvert_exporter": "python",
   "pygments_lexer": "ipython3",
   "version": "3.8.8"
  }
 },
 "nbformat": 4,
 "nbformat_minor": 5
}
